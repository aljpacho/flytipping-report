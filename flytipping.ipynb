{
 "cells": [
  {
   "attachments": {},
   "cell_type": "markdown",
   "metadata": {},
   "source": [
    "# Fly-tipping Report\n",
    "\n",
    "This task requires using the UK government's [fly-tipping dataset](https://www.data.gov.uk/dataset/1388104c-3599-4cd2-abb5-ca8ddeeb4c9c/fly-tipping-in-england) to investigate the following questions:\n",
    "\n",
    "- Which kind of incidents happen most in your region?\n",
    "- How many people have been sent to prison in your region?\n",
    "- In which region is flytipping growing the fastest?\n",
    "- Which region has the biggest fluctuations in clean costs?\n",
    "- Which region is losing the most money from flytipping?"
   ]
  },
  {
   "cell_type": "code",
   "execution_count": 10,
   "metadata": {},
   "outputs": [
    {
     "data": {
      "text/plain": [
       "'Files already in local directory'"
      ]
     },
     "execution_count": 10,
     "metadata": {},
     "output_type": "execute_result"
    }
   ],
   "source": [
    "import urllib.request\n",
    "import os\n",
    "\n",
    "FLYTIPPING_ACTIONS_URL = \"https://s3.eu-west-1.amazonaws.com/data.defra.gov.uk/statistics_2021/LA_flytipping_actions_2012-13_to_2020-21.csv\"\n",
    "FLYTIPPING_INCIDENTS_URL = \"https://s3.eu-west-1.amazonaws.com/data.defra.gov.uk/statistics_2021/LA_flytipping_incidents_2012-13_to_2020-21_updated.csv\"\n",
    "\n",
    "def is_flytipping_data_downloaded(incidents_file_name=\"flytipping-incidents.csv\", actions_file_name=\"flytipping-actions.csv\"):\n",
    "    \"\"\"Check if the required datasets are downloaded in the local directory, \n",
    "    if not downloads them.\n",
    "    \"\"\"\n",
    "    if not os.path.isfile(incidents_file_name) and not os.path.isfile(actions_file_name):\n",
    "        urllib.request.urlretrieve(FLYTIPPING_INCIDENTS_URL, incidents_file_name)\n",
    "        urllib.request.urlretrieve(FLYTIPPING_ACTIONS_URL, actions_file_name)\n",
    "    else:\n",
    "        return \"Files already in local directory\"\n",
    "    \n",
    "\n",
    "is_flytipping_data_downloaded()"
   ]
  },
  {
   "cell_type": "code",
   "execution_count": 19,
   "metadata": {},
   "outputs": [],
   "source": [
    "import pandas as pd\n",
    "\n",
    "df_incidents = pd.read_csv(\"./flytipping-incidents.csv\", encoding=\"ISO-8859-1\", header=1)\n",
    "\n",
    "df_actions = pd.read_csv(\"./flytipping-actions.csv\", encoding=\"ISO-8859-1\", header=1)"
   ]
  }
 ],
 "metadata": {
  "kernelspec": {
   "display_name": "Python 3",
   "language": "python",
   "name": "python3"
  },
  "language_info": {
   "codemirror_mode": {
    "name": "ipython",
    "version": 3
   },
   "file_extension": ".py",
   "mimetype": "text/x-python",
   "name": "python",
   "nbconvert_exporter": "python",
   "pygments_lexer": "ipython3",
   "version": "3.9.13"
  },
  "orig_nbformat": 4,
  "vscode": {
   "interpreter": {
    "hash": "b0fa6594d8f4cbf19f97940f81e996739fb7646882a419484c72d19e05852a7e"
   }
  }
 },
 "nbformat": 4,
 "nbformat_minor": 2
}
