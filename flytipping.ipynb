{
 "cells": [
  {
   "attachments": {},
   "cell_type": "markdown",
   "metadata": {},
   "source": [
    "# Fly-tipping Report\n",
    "\n",
    "This task requires using the UK government's [fly-tipping dataset](https://www.data.gov.uk/dataset/1388104c-3599-4cd2-abb5-ca8ddeeb4c9c/fly-tipping-in-england) to investigate the following questions:\n",
    "\n",
    "- Which kind of incidents happen most in your region?\n",
    "- How many people have been sent to prison in your region?\n",
    "- In which region is flytipping growing the fastest?\n",
    "- Which region has the biggest fluctuations in clean costs?\n",
    "- Which region is losing the most money from flytipping?"
   ]
  },
  {
   "cell_type": "code",
   "execution_count": 10,
   "metadata": {},
   "outputs": [
    {
     "data": {
      "text/plain": [
       "'Files already in local directory'"
      ]
     },
     "execution_count": 10,
     "metadata": {},
     "output_type": "execute_result"
    }
   ],
   "source": [
    "import urllib.request\n",
    "import os\n",
    "\n",
    "FLYTIPPING_ACTIONS_URL = \"https://s3.eu-west-1.amazonaws.com/data.defra.gov.uk/statistics_2021/LA_flytipping_actions_2012-13_to_2020-21.csv\"\n",
    "FLYTIPPING_INCIDENTS_URL = \"https://s3.eu-west-1.amazonaws.com/data.defra.gov.uk/statistics_2021/LA_flytipping_incidents_2012-13_to_2020-21_updated.csv\"\n",
    "\n",
    "def is_flytipping_data_downloaded(incidents_file_name=\"flytipping-incidents.csv\", actions_file_name=\"flytipping-actions.csv\"):\n",
    "    \"\"\"Check if the required datasets are downloaded in the local directory, \n",
    "    if not downloads them.\n",
    "    \"\"\"\n",
    "    if not os.path.isfile(incidents_file_name) and not os.path.isfile(actions_file_name):\n",
    "        urllib.request.urlretrieve(FLYTIPPING_INCIDENTS_URL, incidents_file_name)\n",
    "        urllib.request.urlretrieve(FLYTIPPING_ACTIONS_URL, actions_file_name)\n",
    "    else:\n",
    "        return \"Files already in local directory\"\n",
    "    \n",
    "\n",
    "is_flytipping_data_downloaded()"
   ]
  },
  {
   "cell_type": "code",
   "execution_count": 19,
   "metadata": {},
   "outputs": [],
   "source": [
    "import pandas as pd\n",
    "\n",
    "df_incidents = pd.read_csv(\"./flytipping-incidents.csv\", encoding=\"ISO-8859-1\", header=1)\n",
    "\n",
    "df_actions = pd.read_csv(\"./flytipping-actions.csv\", encoding=\"ISO-8859-1\", header=1)"
   ]
  },
  {
   "attachments": {},
   "cell_type": "markdown",
   "metadata": {},
   "source": [
    "## Clean data\n",
    "\n",
    "- Check for missing values and decide whether to leave within the dataset or remove them\n",
    "- Cast the correct data types onto columns"
   ]
  },
  {
   "attachments": {},
   "cell_type": "markdown",
   "metadata": {},
   "source": [
    "### Check for null values\n",
    "\n",
    "- See if the number of null values will affect the quality of the data"
   ]
  },
  {
   "cell_type": "code",
   "execution_count": 26,
   "metadata": {},
   "outputs": [],
   "source": [
    "def sum_null_values(df):\n",
    "    \"\"\"Sums the number of null valued within a column in \n",
    "    a dataframe\n",
    "\n",
    "    Args:\n",
    "        df: Pandas Dataframe\n",
    "    \"\"\"\n",
    "    missing_data = df.isnull()\n",
    "    missing_data_count = missing_data.sum()\n",
    "    \n",
    "    return missing_data_count\n"
   ]
  },
  {
   "cell_type": "code",
   "execution_count": 27,
   "metadata": {},
   "outputs": [
    {
     "data": {
      "text/plain": [
       "Year                                                          0\n",
       "ONS Code                                                      0\n",
       "LA Name                                                       0\n",
       "Region                                                        0\n",
       "Total Incidents                                               0\n",
       "Highway Incidents                                             3\n",
       "Footpath / Bridleway Incidents                                0\n",
       "Back Alleyway Incidents                                       0\n",
       "Railway Incidents                                             3\n",
       "Council Land Incidents                                        0\n",
       "Agricultural Incidents                                        0\n",
       "Private / Residential Incidents                               0\n",
       "Commercial / Industrial Incidents                             2\n",
       "Watercourse / Bank Incidents                                  2\n",
       "Other (unidentified) Incidents                                0\n",
       "Animal Carcass Incidents                                      1\n",
       "Green Incidents                                               0\n",
       "Vehicle Parts Incidents                                       0\n",
       "White Goods Incidents                                         0\n",
       "Other Electrical Incidents                                    0\n",
       "Tyres Incidents                                               0\n",
       "Asbestos Incidents                                            2\n",
       "Clinical Incidents                                            4\n",
       "Constr / Demol / Excav Incidents                              0\n",
       "Black Bags - Commercial Incidents                             0\n",
       "Black Bags - Household Incidents                              0\n",
       "Chemical Drums, Oil, Fuel Incidents                           1\n",
       "Other Household Waste Incidents                               0\n",
       "Other Commercial Waste Incidents                              0\n",
       "Primary Waste Type Measures Other (unidentified) Incidents    0\n",
       "Single Black Bag Incidents                                    1\n",
       "Single Black Bag Clearance Costs (£)                          0\n",
       "Single Item Incidents                                         0\n",
       "Single Item Clearance Costs (£)                               0\n",
       "Car Boot or Less Incidents                                    0\n",
       "Car Boot or Less Clearance Costs (£)                          0\n",
       "Small Van Load Incidents                                      0\n",
       "Small Van Load Clearance Costs (£)                            0\n",
       "Transit Van Load Incidents                                    0\n",
       "Transit Van Load Clearance Costs (£)                          0\n",
       "Tipper Lorry Load Incidents                                   0\n",
       "Tipper Lorry Load Clearance Costs (£)                         0\n",
       "Significant / Multi Loads Incidents                           0\n",
       "Sig / Multi Loads Clearance Costs (£)                         0\n",
       "Total Incidents Clearance Costs (£)                           1\n",
       "Mid population estimates 2020                                 0\n",
       "Incidents per 1,000 people                                    0\n",
       "Reporting basis                                               0\n",
       "dtype: int64"
      ]
     },
     "execution_count": 27,
     "metadata": {},
     "output_type": "execute_result"
    }
   ],
   "source": [
    "sum_null_values(df_incidents)"
   ]
  },
  {
   "cell_type": "code",
   "execution_count": 28,
   "metadata": {},
   "outputs": [
    {
     "data": {
      "text/plain": [
       "Year                                                                      0\n",
       "ONS Code                                                                  0\n",
       "LA Name                                                                   0\n",
       "Region                                                                    0\n",
       "Total Actions                                                             0\n",
       "Investigation Actions                                                     0\n",
       "Investigation Action Costs (£)                                            0\n",
       "Warning Letter Actions                                                    0\n",
       "Warning Letter Action Costs (£)                                           0\n",
       "Statutory Notice Actions                                                  0\n",
       "Statutory Notice Action Costs (£)                                         0\n",
       "Fixed Penalty Notices issued specifically for fly-tipping                 0\n",
       "Fixed Penalty Notices issued for Household Duty of Care                   0\n",
       "Littering Fixed Penalty Notices issued in conjunction with fly-tipping    0\n",
       "All Other Fixed Penalty Notices issued                                    0\n",
       "Total Fixed Penalty Notice Actions                                        0\n",
       "Fixed Penalty Notice Action Costs (£)                                     0\n",
       "Duty of Care Inspection Actions                                           0\n",
       "Duty of Care Inspect Action Costs (£)                                     0\n",
       "Stop and Search Actions                                                   0\n",
       "Stop and Search Action Costs (£)                                          0\n",
       "Vehicles seized                                                           0\n",
       "Vehicles seized cost (£)                                                  0\n",
       "Formal Caution Actions                                                    0\n",
       "Formal Caution Action Costs (£)                                           0\n",
       "Prosecution Actions                                                       0\n",
       "Prosecution Action Costs (£)                                              0\n",
       "Injunction Actions                                                        0\n",
       "Injunction Action Costs (£)                                               0\n",
       "Absolute / Cond Discharge Outcomes                                        0\n",
       "Community Service Outcomes                                                0\n",
       "Fine Outcomes (issued by courts)                                          0\n",
       "Custodial Sentence Outcomes                                               0\n",
       "Other (successful) Outcomes                                               0\n",
       "Cases Lost Outcomes                                                       0\n",
       "Paid Fixed Penalty Notice Outcomes                                        0\n",
       "£0 to £50 fines                                                           0\n",
       "£51 to £200 fines                                                         0\n",
       "£201 to £500 fines                                                        0\n",
       "£501 to £1000 fines                                                       0\n",
       "£1001 to £5000 fines                                                      0\n",
       "£5001 to £20000 fines                                                     0\n",
       "£20001 to £50000 fines                                                    0\n",
       "over £50000 fines                                                         0\n",
       "Total fines (£)                                                           0\n",
       "dtype: int64"
      ]
     },
     "execution_count": 28,
     "metadata": {},
     "output_type": "execute_result"
    }
   ],
   "source": [
    "sum_null_values(df_actions)"
   ]
  },
  {
   "attachments": {},
   "cell_type": "markdown",
   "metadata": {},
   "source": [
    "### Cast numeric data type on numeric columns"
   ]
  },
  {
   "cell_type": "code",
   "execution_count": null,
   "metadata": {},
   "outputs": [],
   "source": []
  }
 ],
 "metadata": {
  "kernelspec": {
   "display_name": "Python 3",
   "language": "python",
   "name": "python3"
  },
  "language_info": {
   "codemirror_mode": {
    "name": "ipython",
    "version": 3
   },
   "file_extension": ".py",
   "mimetype": "text/x-python",
   "name": "python",
   "nbconvert_exporter": "python",
   "pygments_lexer": "ipython3",
   "version": "3.9.13"
  },
  "orig_nbformat": 4,
  "vscode": {
   "interpreter": {
    "hash": "b0fa6594d8f4cbf19f97940f81e996739fb7646882a419484c72d19e05852a7e"
   }
  }
 },
 "nbformat": 4,
 "nbformat_minor": 2
}
