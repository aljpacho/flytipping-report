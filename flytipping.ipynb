{
 "cells": [
  {
   "attachments": {},
   "cell_type": "markdown",
   "metadata": {},
   "source": [
    "# Fly-tipping Report\n",
    "\n",
    "This task requires using the UK government\"s [fly-tipping dataset](https://www.data.gov.uk/dataset/1388104c-3599-4cd2-abb5-ca8ddeeb4c9c/fly-tipping-in-england) to investigate the following questions:\n",
    "\n",
    "- Which kind of incidents happen most in your region?\n",
    "- How many people have been sent to prison in your region?\n",
    "- In which region is flytipping growing the fastest?\n",
    "- Which region has the biggest fluctuations in clean costs?\n",
    "- Which region is losing the most money from flytipping?"
   ]
  },
  {
   "cell_type": "code",
   "execution_count": 1,
   "metadata": {},
   "outputs": [
    {
     "data": {
      "text/plain": [
       "'Files already in local directory'"
      ]
     },
     "execution_count": 1,
     "metadata": {},
     "output_type": "execute_result"
    }
   ],
   "source": [
    "import urllib.request\n",
    "import os\n",
    "\n",
    "FLYTIPPING_ACTIONS_URL = \"https://s3.eu-west-1.amazonaws.com/data.defra.gov.uk/statistics_2021/LA_flytipping_actions_2012-13_to_2020-21.csv\"\n",
    "FLYTIPPING_INCIDENTS_URL = \"https://s3.eu-west-1.amazonaws.com/data.defra.gov.uk/statistics_2021/LA_flytipping_incidents_2012-13_to_2020-21_updated.csv\"\n",
    "\n",
    "def is_flytipping_data_downloaded(incidents_file_name=\"flytipping-incidents.csv\", actions_file_name=\"flytipping-actions.csv\"):\n",
    "    \"\"\"Check if the required datasets are downloaded in the local directory, \n",
    "    if not downloads them.\n",
    "    \"\"\"\n",
    "    if not os.path.isfile(incidents_file_name) and not os.path.isfile(actions_file_name):\n",
    "        urllib.request.urlretrieve(FLYTIPPING_INCIDENTS_URL, incidents_file_name)\n",
    "        urllib.request.urlretrieve(FLYTIPPING_ACTIONS_URL, actions_file_name)\n",
    "    else:\n",
    "        return \"Files already in local directory\"\n",
    "    \n",
    "\n",
    "is_flytipping_data_downloaded()"
   ]
  },
  {
   "cell_type": "code",
   "execution_count": 2,
   "metadata": {},
   "outputs": [],
   "source": [
    "import pandas as pd\n",
    "\n",
    "pd.options.plotting.backend = \"plotly\"\n",
    "\n",
    "df_incidents = pd.read_csv(\"./flytipping-incidents.csv\", encoding=\"ISO-8859-1\", header=1)\n",
    "\n",
    "df_actions = pd.read_csv(\"./flytipping-actions.csv\", encoding=\"ISO-8859-1\", header=1)"
   ]
  },
  {
   "attachments": {},
   "cell_type": "markdown",
   "metadata": {},
   "source": [
    "## Clean data\n",
    "\n",
    "- Check for missing values and decide whether to leave within the dataset or remove them\n",
    "- Cast the correct data types onto columns"
   ]
  },
  {
   "attachments": {},
   "cell_type": "markdown",
   "metadata": {},
   "source": [
    "### Check for null values\n",
    "\n",
    "- See if the number of null values will affect the quality of the data"
   ]
  },
  {
   "cell_type": "code",
   "execution_count": 3,
   "metadata": {},
   "outputs": [],
   "source": [
    "def sum_null_values(df):\n",
    "    \"\"\"Sums the number of null valued within a column in \n",
    "    a dataframe\n",
    "\n",
    "    Args:\n",
    "        df: Pandas Dataframe\n",
    "    \"\"\"\n",
    "    missing_data = df.isnull()\n",
    "    missing_data_count = missing_data.sum()\n",
    "    \n",
    "    return missing_data_count\n"
   ]
  },
  {
   "cell_type": "code",
   "execution_count": 4,
   "metadata": {},
   "outputs": [
    {
     "data": {
      "text/plain": [
       "Year                                                          0\n",
       "ONS Code                                                      0\n",
       "LA Name                                                       0\n",
       "Region                                                        0\n",
       "Total Incidents                                               0\n",
       "Highway Incidents                                             3\n",
       "Footpath / Bridleway Incidents                                0\n",
       "Back Alleyway Incidents                                       0\n",
       "Railway Incidents                                             3\n",
       "Council Land Incidents                                        0\n",
       "Agricultural Incidents                                        0\n",
       "Private / Residential Incidents                               0\n",
       "Commercial / Industrial Incidents                             2\n",
       "Watercourse / Bank Incidents                                  2\n",
       "Other (unidentified) Incidents                                0\n",
       "Animal Carcass Incidents                                      1\n",
       "Green Incidents                                               0\n",
       "Vehicle Parts Incidents                                       0\n",
       "White Goods Incidents                                         0\n",
       "Other Electrical Incidents                                    0\n",
       "Tyres Incidents                                               0\n",
       "Asbestos Incidents                                            2\n",
       "Clinical Incidents                                            4\n",
       "Constr / Demol / Excav Incidents                              0\n",
       "Black Bags - Commercial Incidents                             0\n",
       "Black Bags - Household Incidents                              0\n",
       "Chemical Drums, Oil, Fuel Incidents                           1\n",
       "Other Household Waste Incidents                               0\n",
       "Other Commercial Waste Incidents                              0\n",
       "Primary Waste Type Measures Other (unidentified) Incidents    0\n",
       "Single Black Bag Incidents                                    1\n",
       "Single Black Bag Clearance Costs (£)                          0\n",
       "Single Item Incidents                                         0\n",
       "Single Item Clearance Costs (£)                               0\n",
       "Car Boot or Less Incidents                                    0\n",
       "Car Boot or Less Clearance Costs (£)                          0\n",
       "Small Van Load Incidents                                      0\n",
       "Small Van Load Clearance Costs (£)                            0\n",
       "Transit Van Load Incidents                                    0\n",
       "Transit Van Load Clearance Costs (£)                          0\n",
       "Tipper Lorry Load Incidents                                   0\n",
       "Tipper Lorry Load Clearance Costs (£)                         0\n",
       "Significant / Multi Loads Incidents                           0\n",
       "Sig / Multi Loads Clearance Costs (£)                         0\n",
       "Total Incidents Clearance Costs (£)                           1\n",
       "Mid population estimates 2020                                 0\n",
       "Incidents per 1,000 people                                    0\n",
       "Reporting basis                                               0\n",
       "dtype: int64"
      ]
     },
     "execution_count": 4,
     "metadata": {},
     "output_type": "execute_result"
    }
   ],
   "source": [
    "sum_null_values(df_incidents)"
   ]
  },
  {
   "cell_type": "code",
   "execution_count": 5,
   "metadata": {},
   "outputs": [
    {
     "data": {
      "text/plain": [
       "Year                                                                      0\n",
       "ONS Code                                                                  0\n",
       "LA Name                                                                   0\n",
       "Region                                                                    0\n",
       "Total Actions                                                             0\n",
       "Investigation Actions                                                     0\n",
       "Investigation Action Costs (£)                                            0\n",
       "Warning Letter Actions                                                    0\n",
       "Warning Letter Action Costs (£)                                           0\n",
       "Statutory Notice Actions                                                  0\n",
       "Statutory Notice Action Costs (£)                                         0\n",
       "Fixed Penalty Notices issued specifically for fly-tipping                 0\n",
       "Fixed Penalty Notices issued for Household Duty of Care                   0\n",
       "Littering Fixed Penalty Notices issued in conjunction with fly-tipping    0\n",
       "All Other Fixed Penalty Notices issued                                    0\n",
       "Total Fixed Penalty Notice Actions                                        0\n",
       "Fixed Penalty Notice Action Costs (£)                                     0\n",
       "Duty of Care Inspection Actions                                           0\n",
       "Duty of Care Inspect Action Costs (£)                                     0\n",
       "Stop and Search Actions                                                   0\n",
       "Stop and Search Action Costs (£)                                          0\n",
       "Vehicles seized                                                           0\n",
       "Vehicles seized cost (£)                                                  0\n",
       "Formal Caution Actions                                                    0\n",
       "Formal Caution Action Costs (£)                                           0\n",
       "Prosecution Actions                                                       0\n",
       "Prosecution Action Costs (£)                                              0\n",
       "Injunction Actions                                                        0\n",
       "Injunction Action Costs (£)                                               0\n",
       "Absolute / Cond Discharge Outcomes                                        0\n",
       "Community Service Outcomes                                                0\n",
       "Fine Outcomes (issued by courts)                                          0\n",
       "Custodial Sentence Outcomes                                               0\n",
       "Other (successful) Outcomes                                               0\n",
       "Cases Lost Outcomes                                                       0\n",
       "Paid Fixed Penalty Notice Outcomes                                        0\n",
       "£0 to £50 fines                                                           0\n",
       "£51 to £200 fines                                                         0\n",
       "£201 to £500 fines                                                        0\n",
       "£501 to £1000 fines                                                       0\n",
       "£1001 to £5000 fines                                                      0\n",
       "£5001 to £20000 fines                                                     0\n",
       "£20001 to £50000 fines                                                    0\n",
       "over £50000 fines                                                         0\n",
       "Total fines (£)                                                           0\n",
       "dtype: int64"
      ]
     },
     "execution_count": 5,
     "metadata": {},
     "output_type": "execute_result"
    }
   ],
   "source": [
    "sum_null_values(df_actions)"
   ]
  },
  {
   "attachments": {},
   "cell_type": "markdown",
   "metadata": {},
   "source": [
    "### Cast numeric data type on numeric columns\n",
    "\n",
    "- From inspection some columns should have a numeric data type but do not, therefore the correct data type needs to be cast\n"
   ]
  },
  {
   "cell_type": "code",
   "execution_count": 6,
   "metadata": {},
   "outputs": [
    {
     "data": {
      "text/html": [
       "<div>\n",
       "<style scoped>\n",
       "    .dataframe tbody tr th:only-of-type {\n",
       "        vertical-align: middle;\n",
       "    }\n",
       "\n",
       "    .dataframe tbody tr th {\n",
       "        vertical-align: top;\n",
       "    }\n",
       "\n",
       "    .dataframe thead th {\n",
       "        text-align: right;\n",
       "    }\n",
       "</style>\n",
       "<table border=\"1\" class=\"dataframe\">\n",
       "  <thead>\n",
       "    <tr style=\"text-align: right;\">\n",
       "      <th></th>\n",
       "      <th>Year</th>\n",
       "      <th>ONS Code</th>\n",
       "      <th>LA Name</th>\n",
       "      <th>Region</th>\n",
       "      <th>Total Incidents</th>\n",
       "      <th>Highway Incidents</th>\n",
       "      <th>Footpath / Bridleway Incidents</th>\n",
       "      <th>Back Alleyway Incidents</th>\n",
       "      <th>Railway Incidents</th>\n",
       "      <th>Council Land Incidents</th>\n",
       "      <th>...</th>\n",
       "      <th>Transit Van Load Incidents</th>\n",
       "      <th>Transit Van Load Clearance Costs (£)</th>\n",
       "      <th>Tipper Lorry Load Incidents</th>\n",
       "      <th>Tipper Lorry Load Clearance Costs (£)</th>\n",
       "      <th>Significant / Multi Loads Incidents</th>\n",
       "      <th>Sig / Multi Loads Clearance Costs (£)</th>\n",
       "      <th>Total Incidents Clearance Costs (£)</th>\n",
       "      <th>Mid population estimates 2020</th>\n",
       "      <th>Incidents per 1,000 people</th>\n",
       "      <th>Reporting basis</th>\n",
       "    </tr>\n",
       "  </thead>\n",
       "  <tbody>\n",
       "    <tr>\n",
       "      <th>2994</th>\n",
       "      <td>2020-21</td>\n",
       "      <td>E08000015</td>\n",
       "      <td>Wirral</td>\n",
       "      <td>North West</td>\n",
       "      <td>4835</td>\n",
       "      <td>1567</td>\n",
       "      <td>473</td>\n",
       "      <td>1889</td>\n",
       "      <td>0</td>\n",
       "      <td>295</td>\n",
       "      <td>...</td>\n",
       "      <td>833</td>\n",
       "      <td>:</td>\n",
       "      <td>239</td>\n",
       "      <td>76300</td>\n",
       "      <td>848</td>\n",
       "      <td>271440</td>\n",
       "      <td>:</td>\n",
       "      <td>324336</td>\n",
       "      <td>14.9</td>\n",
       "      <td>All incidents</td>\n",
       "    </tr>\n",
       "    <tr>\n",
       "      <th>2995</th>\n",
       "      <td>2020-21</td>\n",
       "      <td>E07000217</td>\n",
       "      <td>Woking</td>\n",
       "      <td>South East</td>\n",
       "      <td>1705</td>\n",
       "      <td>565</td>\n",
       "      <td>0</td>\n",
       "      <td>0</td>\n",
       "      <td>0</td>\n",
       "      <td>1140</td>\n",
       "      <td>...</td>\n",
       "      <td>393</td>\n",
       "      <td>:</td>\n",
       "      <td>0</td>\n",
       "      <td>0</td>\n",
       "      <td>0</td>\n",
       "      <td>0</td>\n",
       "      <td>:</td>\n",
       "      <td>100008</td>\n",
       "      <td>17</td>\n",
       "      <td>All incidents</td>\n",
       "    </tr>\n",
       "    <tr>\n",
       "      <th>2996</th>\n",
       "      <td>2020-21</td>\n",
       "      <td>E06000041</td>\n",
       "      <td>Wokingham</td>\n",
       "      <td>South East</td>\n",
       "      <td>2284</td>\n",
       "      <td>1488</td>\n",
       "      <td>292</td>\n",
       "      <td>1</td>\n",
       "      <td>0</td>\n",
       "      <td>490</td>\n",
       "      <td>...</td>\n",
       "      <td>326</td>\n",
       "      <td>:</td>\n",
       "      <td>52</td>\n",
       "      <td>8100</td>\n",
       "      <td>27</td>\n",
       "      <td>14400</td>\n",
       "      <td>:</td>\n",
       "      <td>173945</td>\n",
       "      <td>13.1</td>\n",
       "      <td>All incidents</td>\n",
       "    </tr>\n",
       "    <tr>\n",
       "      <th>2997</th>\n",
       "      <td>2020-21</td>\n",
       "      <td>E08000031</td>\n",
       "      <td>Wolverhampton</td>\n",
       "      <td>West Midlands</td>\n",
       "      <td>3056</td>\n",
       "      <td>3056</td>\n",
       "      <td>0</td>\n",
       "      <td>0</td>\n",
       "      <td>0</td>\n",
       "      <td>0</td>\n",
       "      <td>...</td>\n",
       "      <td>179</td>\n",
       "      <td>:</td>\n",
       "      <td>39</td>\n",
       "      <td>8800</td>\n",
       "      <td>9</td>\n",
       "      <td>3240</td>\n",
       "      <td>:</td>\n",
       "      <td>264407</td>\n",
       "      <td>11.6</td>\n",
       "      <td>All incidents</td>\n",
       "    </tr>\n",
       "    <tr>\n",
       "      <th>2998</th>\n",
       "      <td>2020-21</td>\n",
       "      <td>E07000237</td>\n",
       "      <td>Worcester</td>\n",
       "      <td>West Midlands</td>\n",
       "      <td>432</td>\n",
       "      <td>68</td>\n",
       "      <td>115</td>\n",
       "      <td>34</td>\n",
       "      <td>0</td>\n",
       "      <td>141</td>\n",
       "      <td>...</td>\n",
       "      <td>32</td>\n",
       "      <td>:</td>\n",
       "      <td>2</td>\n",
       "      <td>300</td>\n",
       "      <td>13</td>\n",
       "      <td>1907</td>\n",
       "      <td>:</td>\n",
       "      <td>100265</td>\n",
       "      <td>4.3</td>\n",
       "      <td>All incidents</td>\n",
       "    </tr>\n",
       "    <tr>\n",
       "      <th>2999</th>\n",
       "      <td>2020-21</td>\n",
       "      <td>E07000229</td>\n",
       "      <td>Worthing</td>\n",
       "      <td>South East</td>\n",
       "      <td>760</td>\n",
       "      <td>552</td>\n",
       "      <td>0</td>\n",
       "      <td>0</td>\n",
       "      <td>0</td>\n",
       "      <td>16</td>\n",
       "      <td>...</td>\n",
       "      <td>36</td>\n",
       "      <td>:</td>\n",
       "      <td>2</td>\n",
       "      <td>400</td>\n",
       "      <td>0</td>\n",
       "      <td>0</td>\n",
       "      <td>:</td>\n",
       "      <td>110727</td>\n",
       "      <td>6.9</td>\n",
       "      <td>All incidents</td>\n",
       "    </tr>\n",
       "    <tr>\n",
       "      <th>3000</th>\n",
       "      <td>2020-21</td>\n",
       "      <td>E07000238</td>\n",
       "      <td>Wychavon</td>\n",
       "      <td>West Midlands</td>\n",
       "      <td>962</td>\n",
       "      <td>713</td>\n",
       "      <td>96</td>\n",
       "      <td>1</td>\n",
       "      <td>1</td>\n",
       "      <td>64</td>\n",
       "      <td>...</td>\n",
       "      <td>113</td>\n",
       "      <td>:</td>\n",
       "      <td>25</td>\n",
       "      <td>4250</td>\n",
       "      <td>0</td>\n",
       "      <td>0</td>\n",
       "      <td>:</td>\n",
       "      <td>131084</td>\n",
       "      <td>7.3</td>\n",
       "      <td>All incidents</td>\n",
       "    </tr>\n",
       "    <tr>\n",
       "      <th>3001</th>\n",
       "      <td>2020-21</td>\n",
       "      <td>E07000128</td>\n",
       "      <td>Wyre</td>\n",
       "      <td>North West</td>\n",
       "      <td>1578</td>\n",
       "      <td>105</td>\n",
       "      <td>211</td>\n",
       "      <td>1149</td>\n",
       "      <td>2</td>\n",
       "      <td>81</td>\n",
       "      <td>...</td>\n",
       "      <td>370</td>\n",
       "      <td>:</td>\n",
       "      <td>60</td>\n",
       "      <td>21000</td>\n",
       "      <td>30</td>\n",
       "      <td>10800</td>\n",
       "      <td>:</td>\n",
       "      <td>113067</td>\n",
       "      <td>14</td>\n",
       "      <td>All incidents</td>\n",
       "    </tr>\n",
       "    <tr>\n",
       "      <th>3002</th>\n",
       "      <td>2020-21</td>\n",
       "      <td>E07000239</td>\n",
       "      <td>Wyre Forest</td>\n",
       "      <td>West Midlands</td>\n",
       "      <td>660</td>\n",
       "      <td>273</td>\n",
       "      <td>153</td>\n",
       "      <td>28</td>\n",
       "      <td>0</td>\n",
       "      <td>118</td>\n",
       "      <td>...</td>\n",
       "      <td>205</td>\n",
       "      <td>:</td>\n",
       "      <td>1</td>\n",
       "      <td>150</td>\n",
       "      <td>13</td>\n",
       "      <td>2950</td>\n",
       "      <td>:</td>\n",
       "      <td>101139</td>\n",
       "      <td>6.5</td>\n",
       "      <td>All incidents</td>\n",
       "    </tr>\n",
       "    <tr>\n",
       "      <th>3003</th>\n",
       "      <td>2020-21</td>\n",
       "      <td>E06000014</td>\n",
       "      <td>York</td>\n",
       "      <td>Yorkshire and The Humber</td>\n",
       "      <td>1808</td>\n",
       "      <td>602</td>\n",
       "      <td>137</td>\n",
       "      <td>307</td>\n",
       "      <td>0</td>\n",
       "      <td>568</td>\n",
       "      <td>...</td>\n",
       "      <td>223</td>\n",
       "      <td>:</td>\n",
       "      <td>0</td>\n",
       "      <td>0</td>\n",
       "      <td>0</td>\n",
       "      <td>0</td>\n",
       "      <td>:</td>\n",
       "      <td>211012</td>\n",
       "      <td>8.6</td>\n",
       "      <td>All incidents</td>\n",
       "    </tr>\n",
       "  </tbody>\n",
       "</table>\n",
       "<p>10 rows × 48 columns</p>\n",
       "</div>"
      ],
      "text/plain": [
       "         Year   ONS Code        LA Name                    Region  \\\n",
       "2994  2020-21  E08000015         Wirral                North West   \n",
       "2995  2020-21  E07000217         Woking                South East   \n",
       "2996  2020-21  E06000041      Wokingham                South East   \n",
       "2997  2020-21  E08000031  Wolverhampton             West Midlands   \n",
       "2998  2020-21  E07000237      Worcester             West Midlands   \n",
       "2999  2020-21  E07000229       Worthing                South East   \n",
       "3000  2020-21  E07000238       Wychavon             West Midlands   \n",
       "3001  2020-21  E07000128           Wyre                North West   \n",
       "3002  2020-21  E07000239    Wyre Forest             West Midlands   \n",
       "3003  2020-21  E06000014           York  Yorkshire and The Humber   \n",
       "\n",
       "     Total Incidents Highway Incidents Footpath / Bridleway Incidents  \\\n",
       "2994            4835              1567                            473   \n",
       "2995            1705               565                              0   \n",
       "2996            2284              1488                            292   \n",
       "2997            3056              3056                              0   \n",
       "2998             432                68                            115   \n",
       "2999             760               552                              0   \n",
       "3000             962               713                             96   \n",
       "3001            1578               105                            211   \n",
       "3002             660               273                            153   \n",
       "3003            1808               602                            137   \n",
       "\n",
       "     Back Alleyway Incidents Railway Incidents Council Land Incidents  ...  \\\n",
       "2994                    1889                 0                    295  ...   \n",
       "2995                       0                 0                   1140  ...   \n",
       "2996                       1                 0                    490  ...   \n",
       "2997                       0                 0                      0  ...   \n",
       "2998                      34                 0                    141  ...   \n",
       "2999                       0                 0                     16  ...   \n",
       "3000                       1                 1                     64  ...   \n",
       "3001                    1149                 2                     81  ...   \n",
       "3002                      28                 0                    118  ...   \n",
       "3003                     307                 0                    568  ...   \n",
       "\n",
       "     Transit Van Load Incidents Transit Van Load Clearance Costs (£)  \\\n",
       "2994                        833                                    :   \n",
       "2995                        393                                    :   \n",
       "2996                        326                                    :   \n",
       "2997                        179                                    :   \n",
       "2998                         32                                    :   \n",
       "2999                         36                                    :   \n",
       "3000                        113                                    :   \n",
       "3001                        370                                    :   \n",
       "3002                        205                                    :   \n",
       "3003                        223                                    :   \n",
       "\n",
       "     Tipper Lorry Load Incidents Tipper Lorry Load Clearance Costs (£)  \\\n",
       "2994                         239                                 76300   \n",
       "2995                           0                                     0   \n",
       "2996                          52                                  8100   \n",
       "2997                          39                                  8800   \n",
       "2998                           2                                   300   \n",
       "2999                           2                                   400   \n",
       "3000                          25                                  4250   \n",
       "3001                          60                                 21000   \n",
       "3002                           1                                   150   \n",
       "3003                           0                                     0   \n",
       "\n",
       "     Significant / Multi Loads Incidents  \\\n",
       "2994                                 848   \n",
       "2995                                   0   \n",
       "2996                                  27   \n",
       "2997                                   9   \n",
       "2998                                  13   \n",
       "2999                                   0   \n",
       "3000                                   0   \n",
       "3001                                  30   \n",
       "3002                                  13   \n",
       "3003                                   0   \n",
       "\n",
       "     Sig / Multi Loads Clearance Costs (£)  \\\n",
       "2994                                271440   \n",
       "2995                                     0   \n",
       "2996                                 14400   \n",
       "2997                                  3240   \n",
       "2998                                  1907   \n",
       "2999                                     0   \n",
       "3000                                     0   \n",
       "3001                                 10800   \n",
       "3002                                  2950   \n",
       "3003                                     0   \n",
       "\n",
       "     Total Incidents Clearance Costs (£) Mid population estimates 2020  \\\n",
       "2994                                   :                        324336   \n",
       "2995                                   :                        100008   \n",
       "2996                                   :                        173945   \n",
       "2997                                   :                        264407   \n",
       "2998                                   :                        100265   \n",
       "2999                                   :                        110727   \n",
       "3000                                   :                        131084   \n",
       "3001                                   :                        113067   \n",
       "3002                                   :                        101139   \n",
       "3003                                   :                        211012   \n",
       "\n",
       "     Incidents per 1,000 people Reporting basis  \n",
       "2994                       14.9   All incidents  \n",
       "2995                         17   All incidents  \n",
       "2996                       13.1   All incidents  \n",
       "2997                       11.6   All incidents  \n",
       "2998                        4.3   All incidents  \n",
       "2999                        6.9   All incidents  \n",
       "3000                        7.3   All incidents  \n",
       "3001                         14   All incidents  \n",
       "3002                        6.5   All incidents  \n",
       "3003                        8.6   All incidents  \n",
       "\n",
       "[10 rows x 48 columns]"
      ]
     },
     "execution_count": 6,
     "metadata": {},
     "output_type": "execute_result"
    }
   ],
   "source": [
    "df_incidents.tail(10)"
   ]
  },
  {
   "cell_type": "code",
   "execution_count": 7,
   "metadata": {},
   "outputs": [],
   "source": [
    "def cast_numeric_data_type(df):\n",
    "    \"\"\"Cast numeric data type onto columns that are not non-numeric\"\"\"\n",
    "    non_numeric_columns = (\"Year\", \"ONS Code\", \"LA Name\", \"Region\", \"Reporting Basis\")\n",
    "    \n",
    "    for column in df: \n",
    "        if column not in non_numeric_columns:\n",
    "            df[column] = pd.to_numeric(df[column], errors=\"coerce\")\n",
    "\n",
    "cast_numeric_data_type(df_incidents)\n",
    "cast_numeric_data_type(df_actions)"
   ]
  },
  {
   "attachments": {},
   "cell_type": "markdown",
   "metadata": {},
   "source": [
    "## Questions\n",
    "\n",
    "Region will be set to London for the following questions:\n",
    "\n",
    "- Which kind of incidents happen most in your region?\n",
    "- How many people have been sent to prison in your region?\n",
    "- In which region is flytipping growing the fastest?\n",
    "- Which region has the biggest fluctuations in clean costs?\n",
    "- Which region is losing the most money from flytipping?"
   ]
  },
  {
   "attachments": {},
   "cell_type": "markdown",
   "metadata": {},
   "source": [
    "#### 1) Which kinds of incidents happen most in your region?\n",
    "\n",
    "- Set region to London\n",
    "- Find the sum of incidents grouped by incident"
   ]
  },
  {
   "cell_type": "code",
   "execution_count": 8,
   "metadata": {},
   "outputs": [],
   "source": [
    "def get_incidents_for_region(df_incidents, region=\"London\"):\n",
    "    \"\"\"Returns an incidents only dataframe for a specified region\n",
    "\n",
    "    Args:\n",
    "        df_incidents: dataframe of flytipping incidents\n",
    "        region (str, optional): region in the UK. Defaults to \"London\".\n",
    "    \"\"\"\n",
    "    incident_columns = list()\n",
    "\n",
    "    for column in df_incidents:\n",
    "        if \"Incidents\" in column:\n",
    "            incident_columns.append(column)\n",
    "        \n",
    "    return df_incidents[df_incidents[\"Region\"] == region][incident_columns]"
   ]
  },
  {
   "cell_type": "code",
   "execution_count": 11,
   "metadata": {},
   "outputs": [],
   "source": [
    "def generate_sum_incident_bar(df_region_incidents):\n",
    "    \"\"\"Generates a bar chart of the sum of incidents for a dataframe for\n",
    "    a specific region\n",
    "    \"\"\"\n",
    "    df_region_incidents_bar = df_region_incidents.sum(skipna=True).sort_values(ascending=False).iloc[2:]\n",
    "    return df_region_incidents_bar.rename_axis(\"Type of Incident\", axis=0).rename(\"Number of Occurrences\").plot(kind=\"bar\", title=f\"Type of Incident vs Number of Occurrences in {}\", width=1000, height=750)"
   ]
  },
  {
   "cell_type": "code",
   "execution_count": 14,
   "metadata": {},
   "outputs": [
    {
     "data": {
      "application/vnd.plotly.v1+json": {
       "config": {
        "plotlyServerURL": "https://plot.ly"
       },
       "data": [
        {
         "alignmentgroup": "True",
         "hovertemplate": "variable=Number of Occurrences<br>Type of Incident=%{x}<br>value=%{y}<extra></extra>",
         "legendgroup": "Number of Occurrences",
         "marker": {
          "color": "#636efa",
          "pattern": {
           "shape": ""
          }
         },
         "name": "Number of Occurrences",
         "offsetgroup": "Number of Occurrences",
         "orientation": "v",
         "showlegend": true,
         "textposition": "auto",
         "type": "bar",
         "x": [
          "Highway Incidents",
          "Other Household Waste Incidents",
          "Car Boot or Less Incidents",
          "Small Van Load Incidents",
          "Footpath / Bridleway Incidents",
          "Black Bags - Household Incidents",
          "Single Item Incidents",
          "Primary Waste Type Measures Other (unidentified) Incidents",
          "Other (unidentified) Incidents",
          "Transit Van Load Incidents",
          "Council Land Incidents",
          "Single Black Bag Incidents",
          "Black Bags - Commercial Incidents",
          "Constr / Demol / Excav Incidents",
          "Other Commercial Waste Incidents",
          "White Goods Incidents",
          "Green Incidents",
          "Private / Residential Incidents",
          "Back Alleyway Incidents",
          "Tipper Lorry Load Incidents",
          "Other Electrical Incidents",
          "Significant / Multi Loads Incidents",
          "Vehicle Parts Incidents",
          "Animal Carcass Incidents",
          "Tyres Incidents",
          "Commercial / Industrial Incidents",
          "Chemical Drums, Oil, Fuel Incidents",
          "Agricultural Incidents",
          "Asbestos Incidents",
          "Railway Incidents",
          "Clinical Incidents",
          "Incidents per 1,000 people",
          "Watercourse / Bank Incidents"
         ],
         "xaxis": "x",
         "y": [
          3254949,
          2690143,
          2023024,
          1719366,
          1418581,
          1136249,
          1014104,
          770246,
          603930,
          580276,
          432138,
          396719,
          334804,
          278266,
          200384,
          172264,
          166214,
          91838,
          84828,
          66080,
          61804,
          56334,
          35400,
          27790,
          22190,
          14100,
          9164,
          8378,
          6914,
          4826,
          3658,
          3112.9,
          1010
         ],
         "yaxis": "y"
        }
       ],
       "layout": {
        "barmode": "relative",
        "height": 750,
        "legend": {
         "title": {
          "text": "variable"
         },
         "tracegroupgap": 0
        },
        "template": {
         "data": {
          "bar": [
           {
            "error_x": {
             "color": "#2a3f5f"
            },
            "error_y": {
             "color": "#2a3f5f"
            },
            "marker": {
             "line": {
              "color": "#E5ECF6",
              "width": 0.5
             },
             "pattern": {
              "fillmode": "overlay",
              "size": 10,
              "solidity": 0.2
             }
            },
            "type": "bar"
           }
          ],
          "barpolar": [
           {
            "marker": {
             "line": {
              "color": "#E5ECF6",
              "width": 0.5
             },
             "pattern": {
              "fillmode": "overlay",
              "size": 10,
              "solidity": 0.2
             }
            },
            "type": "barpolar"
           }
          ],
          "carpet": [
           {
            "aaxis": {
             "endlinecolor": "#2a3f5f",
             "gridcolor": "white",
             "linecolor": "white",
             "minorgridcolor": "white",
             "startlinecolor": "#2a3f5f"
            },
            "baxis": {
             "endlinecolor": "#2a3f5f",
             "gridcolor": "white",
             "linecolor": "white",
             "minorgridcolor": "white",
             "startlinecolor": "#2a3f5f"
            },
            "type": "carpet"
           }
          ],
          "choropleth": [
           {
            "colorbar": {
             "outlinewidth": 0,
             "ticks": ""
            },
            "type": "choropleth"
           }
          ],
          "contour": [
           {
            "colorbar": {
             "outlinewidth": 0,
             "ticks": ""
            },
            "colorscale": [
             [
              0,
              "#0d0887"
             ],
             [
              0.1111111111111111,
              "#46039f"
             ],
             [
              0.2222222222222222,
              "#7201a8"
             ],
             [
              0.3333333333333333,
              "#9c179e"
             ],
             [
              0.4444444444444444,
              "#bd3786"
             ],
             [
              0.5555555555555556,
              "#d8576b"
             ],
             [
              0.6666666666666666,
              "#ed7953"
             ],
             [
              0.7777777777777778,
              "#fb9f3a"
             ],
             [
              0.8888888888888888,
              "#fdca26"
             ],
             [
              1,
              "#f0f921"
             ]
            ],
            "type": "contour"
           }
          ],
          "contourcarpet": [
           {
            "colorbar": {
             "outlinewidth": 0,
             "ticks": ""
            },
            "type": "contourcarpet"
           }
          ],
          "heatmap": [
           {
            "colorbar": {
             "outlinewidth": 0,
             "ticks": ""
            },
            "colorscale": [
             [
              0,
              "#0d0887"
             ],
             [
              0.1111111111111111,
              "#46039f"
             ],
             [
              0.2222222222222222,
              "#7201a8"
             ],
             [
              0.3333333333333333,
              "#9c179e"
             ],
             [
              0.4444444444444444,
              "#bd3786"
             ],
             [
              0.5555555555555556,
              "#d8576b"
             ],
             [
              0.6666666666666666,
              "#ed7953"
             ],
             [
              0.7777777777777778,
              "#fb9f3a"
             ],
             [
              0.8888888888888888,
              "#fdca26"
             ],
             [
              1,
              "#f0f921"
             ]
            ],
            "type": "heatmap"
           }
          ],
          "heatmapgl": [
           {
            "colorbar": {
             "outlinewidth": 0,
             "ticks": ""
            },
            "colorscale": [
             [
              0,
              "#0d0887"
             ],
             [
              0.1111111111111111,
              "#46039f"
             ],
             [
              0.2222222222222222,
              "#7201a8"
             ],
             [
              0.3333333333333333,
              "#9c179e"
             ],
             [
              0.4444444444444444,
              "#bd3786"
             ],
             [
              0.5555555555555556,
              "#d8576b"
             ],
             [
              0.6666666666666666,
              "#ed7953"
             ],
             [
              0.7777777777777778,
              "#fb9f3a"
             ],
             [
              0.8888888888888888,
              "#fdca26"
             ],
             [
              1,
              "#f0f921"
             ]
            ],
            "type": "heatmapgl"
           }
          ],
          "histogram": [
           {
            "marker": {
             "pattern": {
              "fillmode": "overlay",
              "size": 10,
              "solidity": 0.2
             }
            },
            "type": "histogram"
           }
          ],
          "histogram2d": [
           {
            "colorbar": {
             "outlinewidth": 0,
             "ticks": ""
            },
            "colorscale": [
             [
              0,
              "#0d0887"
             ],
             [
              0.1111111111111111,
              "#46039f"
             ],
             [
              0.2222222222222222,
              "#7201a8"
             ],
             [
              0.3333333333333333,
              "#9c179e"
             ],
             [
              0.4444444444444444,
              "#bd3786"
             ],
             [
              0.5555555555555556,
              "#d8576b"
             ],
             [
              0.6666666666666666,
              "#ed7953"
             ],
             [
              0.7777777777777778,
              "#fb9f3a"
             ],
             [
              0.8888888888888888,
              "#fdca26"
             ],
             [
              1,
              "#f0f921"
             ]
            ],
            "type": "histogram2d"
           }
          ],
          "histogram2dcontour": [
           {
            "colorbar": {
             "outlinewidth": 0,
             "ticks": ""
            },
            "colorscale": [
             [
              0,
              "#0d0887"
             ],
             [
              0.1111111111111111,
              "#46039f"
             ],
             [
              0.2222222222222222,
              "#7201a8"
             ],
             [
              0.3333333333333333,
              "#9c179e"
             ],
             [
              0.4444444444444444,
              "#bd3786"
             ],
             [
              0.5555555555555556,
              "#d8576b"
             ],
             [
              0.6666666666666666,
              "#ed7953"
             ],
             [
              0.7777777777777778,
              "#fb9f3a"
             ],
             [
              0.8888888888888888,
              "#fdca26"
             ],
             [
              1,
              "#f0f921"
             ]
            ],
            "type": "histogram2dcontour"
           }
          ],
          "mesh3d": [
           {
            "colorbar": {
             "outlinewidth": 0,
             "ticks": ""
            },
            "type": "mesh3d"
           }
          ],
          "parcoords": [
           {
            "line": {
             "colorbar": {
              "outlinewidth": 0,
              "ticks": ""
             }
            },
            "type": "parcoords"
           }
          ],
          "pie": [
           {
            "automargin": true,
            "type": "pie"
           }
          ],
          "scatter": [
           {
            "fillpattern": {
             "fillmode": "overlay",
             "size": 10,
             "solidity": 0.2
            },
            "type": "scatter"
           }
          ],
          "scatter3d": [
           {
            "line": {
             "colorbar": {
              "outlinewidth": 0,
              "ticks": ""
             }
            },
            "marker": {
             "colorbar": {
              "outlinewidth": 0,
              "ticks": ""
             }
            },
            "type": "scatter3d"
           }
          ],
          "scattercarpet": [
           {
            "marker": {
             "colorbar": {
              "outlinewidth": 0,
              "ticks": ""
             }
            },
            "type": "scattercarpet"
           }
          ],
          "scattergeo": [
           {
            "marker": {
             "colorbar": {
              "outlinewidth": 0,
              "ticks": ""
             }
            },
            "type": "scattergeo"
           }
          ],
          "scattergl": [
           {
            "marker": {
             "colorbar": {
              "outlinewidth": 0,
              "ticks": ""
             }
            },
            "type": "scattergl"
           }
          ],
          "scattermapbox": [
           {
            "marker": {
             "colorbar": {
              "outlinewidth": 0,
              "ticks": ""
             }
            },
            "type": "scattermapbox"
           }
          ],
          "scatterpolar": [
           {
            "marker": {
             "colorbar": {
              "outlinewidth": 0,
              "ticks": ""
             }
            },
            "type": "scatterpolar"
           }
          ],
          "scatterpolargl": [
           {
            "marker": {
             "colorbar": {
              "outlinewidth": 0,
              "ticks": ""
             }
            },
            "type": "scatterpolargl"
           }
          ],
          "scatterternary": [
           {
            "marker": {
             "colorbar": {
              "outlinewidth": 0,
              "ticks": ""
             }
            },
            "type": "scatterternary"
           }
          ],
          "surface": [
           {
            "colorbar": {
             "outlinewidth": 0,
             "ticks": ""
            },
            "colorscale": [
             [
              0,
              "#0d0887"
             ],
             [
              0.1111111111111111,
              "#46039f"
             ],
             [
              0.2222222222222222,
              "#7201a8"
             ],
             [
              0.3333333333333333,
              "#9c179e"
             ],
             [
              0.4444444444444444,
              "#bd3786"
             ],
             [
              0.5555555555555556,
              "#d8576b"
             ],
             [
              0.6666666666666666,
              "#ed7953"
             ],
             [
              0.7777777777777778,
              "#fb9f3a"
             ],
             [
              0.8888888888888888,
              "#fdca26"
             ],
             [
              1,
              "#f0f921"
             ]
            ],
            "type": "surface"
           }
          ],
          "table": [
           {
            "cells": {
             "fill": {
              "color": "#EBF0F8"
             },
             "line": {
              "color": "white"
             }
            },
            "header": {
             "fill": {
              "color": "#C8D4E3"
             },
             "line": {
              "color": "white"
             }
            },
            "type": "table"
           }
          ]
         },
         "layout": {
          "annotationdefaults": {
           "arrowcolor": "#2a3f5f",
           "arrowhead": 0,
           "arrowwidth": 1
          },
          "autotypenumbers": "strict",
          "coloraxis": {
           "colorbar": {
            "outlinewidth": 0,
            "ticks": ""
           }
          },
          "colorscale": {
           "diverging": [
            [
             0,
             "#8e0152"
            ],
            [
             0.1,
             "#c51b7d"
            ],
            [
             0.2,
             "#de77ae"
            ],
            [
             0.3,
             "#f1b6da"
            ],
            [
             0.4,
             "#fde0ef"
            ],
            [
             0.5,
             "#f7f7f7"
            ],
            [
             0.6,
             "#e6f5d0"
            ],
            [
             0.7,
             "#b8e186"
            ],
            [
             0.8,
             "#7fbc41"
            ],
            [
             0.9,
             "#4d9221"
            ],
            [
             1,
             "#276419"
            ]
           ],
           "sequential": [
            [
             0,
             "#0d0887"
            ],
            [
             0.1111111111111111,
             "#46039f"
            ],
            [
             0.2222222222222222,
             "#7201a8"
            ],
            [
             0.3333333333333333,
             "#9c179e"
            ],
            [
             0.4444444444444444,
             "#bd3786"
            ],
            [
             0.5555555555555556,
             "#d8576b"
            ],
            [
             0.6666666666666666,
             "#ed7953"
            ],
            [
             0.7777777777777778,
             "#fb9f3a"
            ],
            [
             0.8888888888888888,
             "#fdca26"
            ],
            [
             1,
             "#f0f921"
            ]
           ],
           "sequentialminus": [
            [
             0,
             "#0d0887"
            ],
            [
             0.1111111111111111,
             "#46039f"
            ],
            [
             0.2222222222222222,
             "#7201a8"
            ],
            [
             0.3333333333333333,
             "#9c179e"
            ],
            [
             0.4444444444444444,
             "#bd3786"
            ],
            [
             0.5555555555555556,
             "#d8576b"
            ],
            [
             0.6666666666666666,
             "#ed7953"
            ],
            [
             0.7777777777777778,
             "#fb9f3a"
            ],
            [
             0.8888888888888888,
             "#fdca26"
            ],
            [
             1,
             "#f0f921"
            ]
           ]
          },
          "colorway": [
           "#636efa",
           "#EF553B",
           "#00cc96",
           "#ab63fa",
           "#FFA15A",
           "#19d3f3",
           "#FF6692",
           "#B6E880",
           "#FF97FF",
           "#FECB52"
          ],
          "font": {
           "color": "#2a3f5f"
          },
          "geo": {
           "bgcolor": "white",
           "lakecolor": "white",
           "landcolor": "#E5ECF6",
           "showlakes": true,
           "showland": true,
           "subunitcolor": "white"
          },
          "hoverlabel": {
           "align": "left"
          },
          "hovermode": "closest",
          "mapbox": {
           "style": "light"
          },
          "paper_bgcolor": "white",
          "plot_bgcolor": "#E5ECF6",
          "polar": {
           "angularaxis": {
            "gridcolor": "white",
            "linecolor": "white",
            "ticks": ""
           },
           "bgcolor": "#E5ECF6",
           "radialaxis": {
            "gridcolor": "white",
            "linecolor": "white",
            "ticks": ""
           }
          },
          "scene": {
           "xaxis": {
            "backgroundcolor": "#E5ECF6",
            "gridcolor": "white",
            "gridwidth": 2,
            "linecolor": "white",
            "showbackground": true,
            "ticks": "",
            "zerolinecolor": "white"
           },
           "yaxis": {
            "backgroundcolor": "#E5ECF6",
            "gridcolor": "white",
            "gridwidth": 2,
            "linecolor": "white",
            "showbackground": true,
            "ticks": "",
            "zerolinecolor": "white"
           },
           "zaxis": {
            "backgroundcolor": "#E5ECF6",
            "gridcolor": "white",
            "gridwidth": 2,
            "linecolor": "white",
            "showbackground": true,
            "ticks": "",
            "zerolinecolor": "white"
           }
          },
          "shapedefaults": {
           "line": {
            "color": "#2a3f5f"
           }
          },
          "ternary": {
           "aaxis": {
            "gridcolor": "white",
            "linecolor": "white",
            "ticks": ""
           },
           "baxis": {
            "gridcolor": "white",
            "linecolor": "white",
            "ticks": ""
           },
           "bgcolor": "#E5ECF6",
           "caxis": {
            "gridcolor": "white",
            "linecolor": "white",
            "ticks": ""
           }
          },
          "title": {
           "x": 0.05
          },
          "xaxis": {
           "automargin": true,
           "gridcolor": "white",
           "linecolor": "white",
           "ticks": "",
           "title": {
            "standoff": 15
           },
           "zerolinecolor": "white",
           "zerolinewidth": 2
          },
          "yaxis": {
           "automargin": true,
           "gridcolor": "white",
           "linecolor": "white",
           "ticks": "",
           "title": {
            "standoff": 15
           },
           "zerolinecolor": "white",
           "zerolinewidth": 2
          }
         }
        },
        "title": {
         "text": "Type of Incident vs Number of Occurrences"
        },
        "width": 1000,
        "xaxis": {
         "anchor": "y",
         "domain": [
          0,
          1
         ],
         "title": {
          "text": "Type of Incident"
         }
        },
        "yaxis": {
         "anchor": "x",
         "domain": [
          0,
          1
         ],
         "title": {
          "text": "value"
         }
        }
       }
      }
     },
     "metadata": {},
     "output_type": "display_data"
    }
   ],
   "source": [
    "df_sum_nw_incidents_bar = generate_sum_incident_bar(get_incidents_for_region(df_incidents))\n",
    "df_sum_nw_incidents_bar"
   ]
  },
  {
   "attachments": {},
   "cell_type": "markdown",
   "metadata": {},
   "source": [
    "### Number of Incident Occurrences in the North West Region\n",
    "\n",
    "- Household Waste Incidents are most prevalent in this region."
   ]
  },
  {
   "cell_type": "code",
   "execution_count": 13,
   "metadata": {},
   "outputs": [
    {
     "data": {
      "application/vnd.plotly.v1+json": {
       "config": {
        "plotlyServerURL": "https://plot.ly"
       },
       "data": [
        {
         "alignmentgroup": "True",
         "hovertemplate": "variable=Number of Occurrences<br>Type of Incident=%{x}<br>value=%{y}<extra></extra>",
         "legendgroup": "Number of Occurrences",
         "marker": {
          "color": "#636efa",
          "pattern": {
           "shape": ""
          }
         },
         "name": "Number of Occurrences",
         "offsetgroup": "Number of Occurrences",
         "orientation": "v",
         "showlegend": true,
         "textposition": "auto",
         "type": "bar",
         "x": [
          "Other Household Waste Incidents",
          "Back Alleyway Incidents",
          "Small Van Load Incidents",
          "Highway Incidents",
          "Black Bags - Household Incidents",
          "Car Boot or Less Incidents",
          "Transit Van Load Incidents",
          "Single Item Incidents",
          "Council Land Incidents",
          "Primary Waste Type Measures Other (unidentified) Incidents",
          "Footpath / Bridleway Incidents",
          "Constr / Demol / Excav Incidents",
          "White Goods Incidents",
          "Other (unidentified) Incidents",
          "Tipper Lorry Load Incidents",
          "Green Incidents",
          "Other Commercial Waste Incidents",
          "Private / Residential Incidents",
          "Single Black Bag Incidents",
          "Other Electrical Incidents",
          "Black Bags - Commercial Incidents",
          "Significant / Multi Loads Incidents",
          "Tyres Incidents",
          "Commercial / Industrial Incidents",
          "Vehicle Parts Incidents",
          "Asbestos Incidents",
          "Chemical Drums, Oil, Fuel Incidents",
          "Animal Carcass Incidents",
          "Watercourse / Bank Incidents",
          "Agricultural Incidents",
          "Clinical Incidents",
          "Railway Incidents",
          "Incidents per 1,000 people"
         ],
         "xaxis": "x",
         "y": [
          1015082,
          821912,
          804286,
          789234,
          452952,
          386708,
          378428,
          240562,
          199386,
          157484,
          146092,
          123392,
          122378,
          63576,
          60558,
          55396,
          53258,
          52130,
          50672,
          31342,
          28932,
          26066,
          25262,
          18518,
          13202,
          8826,
          6986,
          6878,
          6104,
          6000,
          3542,
          1960,
          1337.5
         ],
         "yaxis": "y"
        }
       ],
       "layout": {
        "barmode": "relative",
        "height": 750,
        "legend": {
         "title": {
          "text": "variable"
         },
         "tracegroupgap": 0
        },
        "template": {
         "data": {
          "bar": [
           {
            "error_x": {
             "color": "#2a3f5f"
            },
            "error_y": {
             "color": "#2a3f5f"
            },
            "marker": {
             "line": {
              "color": "#E5ECF6",
              "width": 0.5
             },
             "pattern": {
              "fillmode": "overlay",
              "size": 10,
              "solidity": 0.2
             }
            },
            "type": "bar"
           }
          ],
          "barpolar": [
           {
            "marker": {
             "line": {
              "color": "#E5ECF6",
              "width": 0.5
             },
             "pattern": {
              "fillmode": "overlay",
              "size": 10,
              "solidity": 0.2
             }
            },
            "type": "barpolar"
           }
          ],
          "carpet": [
           {
            "aaxis": {
             "endlinecolor": "#2a3f5f",
             "gridcolor": "white",
             "linecolor": "white",
             "minorgridcolor": "white",
             "startlinecolor": "#2a3f5f"
            },
            "baxis": {
             "endlinecolor": "#2a3f5f",
             "gridcolor": "white",
             "linecolor": "white",
             "minorgridcolor": "white",
             "startlinecolor": "#2a3f5f"
            },
            "type": "carpet"
           }
          ],
          "choropleth": [
           {
            "colorbar": {
             "outlinewidth": 0,
             "ticks": ""
            },
            "type": "choropleth"
           }
          ],
          "contour": [
           {
            "colorbar": {
             "outlinewidth": 0,
             "ticks": ""
            },
            "colorscale": [
             [
              0,
              "#0d0887"
             ],
             [
              0.1111111111111111,
              "#46039f"
             ],
             [
              0.2222222222222222,
              "#7201a8"
             ],
             [
              0.3333333333333333,
              "#9c179e"
             ],
             [
              0.4444444444444444,
              "#bd3786"
             ],
             [
              0.5555555555555556,
              "#d8576b"
             ],
             [
              0.6666666666666666,
              "#ed7953"
             ],
             [
              0.7777777777777778,
              "#fb9f3a"
             ],
             [
              0.8888888888888888,
              "#fdca26"
             ],
             [
              1,
              "#f0f921"
             ]
            ],
            "type": "contour"
           }
          ],
          "contourcarpet": [
           {
            "colorbar": {
             "outlinewidth": 0,
             "ticks": ""
            },
            "type": "contourcarpet"
           }
          ],
          "heatmap": [
           {
            "colorbar": {
             "outlinewidth": 0,
             "ticks": ""
            },
            "colorscale": [
             [
              0,
              "#0d0887"
             ],
             [
              0.1111111111111111,
              "#46039f"
             ],
             [
              0.2222222222222222,
              "#7201a8"
             ],
             [
              0.3333333333333333,
              "#9c179e"
             ],
             [
              0.4444444444444444,
              "#bd3786"
             ],
             [
              0.5555555555555556,
              "#d8576b"
             ],
             [
              0.6666666666666666,
              "#ed7953"
             ],
             [
              0.7777777777777778,
              "#fb9f3a"
             ],
             [
              0.8888888888888888,
              "#fdca26"
             ],
             [
              1,
              "#f0f921"
             ]
            ],
            "type": "heatmap"
           }
          ],
          "heatmapgl": [
           {
            "colorbar": {
             "outlinewidth": 0,
             "ticks": ""
            },
            "colorscale": [
             [
              0,
              "#0d0887"
             ],
             [
              0.1111111111111111,
              "#46039f"
             ],
             [
              0.2222222222222222,
              "#7201a8"
             ],
             [
              0.3333333333333333,
              "#9c179e"
             ],
             [
              0.4444444444444444,
              "#bd3786"
             ],
             [
              0.5555555555555556,
              "#d8576b"
             ],
             [
              0.6666666666666666,
              "#ed7953"
             ],
             [
              0.7777777777777778,
              "#fb9f3a"
             ],
             [
              0.8888888888888888,
              "#fdca26"
             ],
             [
              1,
              "#f0f921"
             ]
            ],
            "type": "heatmapgl"
           }
          ],
          "histogram": [
           {
            "marker": {
             "pattern": {
              "fillmode": "overlay",
              "size": 10,
              "solidity": 0.2
             }
            },
            "type": "histogram"
           }
          ],
          "histogram2d": [
           {
            "colorbar": {
             "outlinewidth": 0,
             "ticks": ""
            },
            "colorscale": [
             [
              0,
              "#0d0887"
             ],
             [
              0.1111111111111111,
              "#46039f"
             ],
             [
              0.2222222222222222,
              "#7201a8"
             ],
             [
              0.3333333333333333,
              "#9c179e"
             ],
             [
              0.4444444444444444,
              "#bd3786"
             ],
             [
              0.5555555555555556,
              "#d8576b"
             ],
             [
              0.6666666666666666,
              "#ed7953"
             ],
             [
              0.7777777777777778,
              "#fb9f3a"
             ],
             [
              0.8888888888888888,
              "#fdca26"
             ],
             [
              1,
              "#f0f921"
             ]
            ],
            "type": "histogram2d"
           }
          ],
          "histogram2dcontour": [
           {
            "colorbar": {
             "outlinewidth": 0,
             "ticks": ""
            },
            "colorscale": [
             [
              0,
              "#0d0887"
             ],
             [
              0.1111111111111111,
              "#46039f"
             ],
             [
              0.2222222222222222,
              "#7201a8"
             ],
             [
              0.3333333333333333,
              "#9c179e"
             ],
             [
              0.4444444444444444,
              "#bd3786"
             ],
             [
              0.5555555555555556,
              "#d8576b"
             ],
             [
              0.6666666666666666,
              "#ed7953"
             ],
             [
              0.7777777777777778,
              "#fb9f3a"
             ],
             [
              0.8888888888888888,
              "#fdca26"
             ],
             [
              1,
              "#f0f921"
             ]
            ],
            "type": "histogram2dcontour"
           }
          ],
          "mesh3d": [
           {
            "colorbar": {
             "outlinewidth": 0,
             "ticks": ""
            },
            "type": "mesh3d"
           }
          ],
          "parcoords": [
           {
            "line": {
             "colorbar": {
              "outlinewidth": 0,
              "ticks": ""
             }
            },
            "type": "parcoords"
           }
          ],
          "pie": [
           {
            "automargin": true,
            "type": "pie"
           }
          ],
          "scatter": [
           {
            "fillpattern": {
             "fillmode": "overlay",
             "size": 10,
             "solidity": 0.2
            },
            "type": "scatter"
           }
          ],
          "scatter3d": [
           {
            "line": {
             "colorbar": {
              "outlinewidth": 0,
              "ticks": ""
             }
            },
            "marker": {
             "colorbar": {
              "outlinewidth": 0,
              "ticks": ""
             }
            },
            "type": "scatter3d"
           }
          ],
          "scattercarpet": [
           {
            "marker": {
             "colorbar": {
              "outlinewidth": 0,
              "ticks": ""
             }
            },
            "type": "scattercarpet"
           }
          ],
          "scattergeo": [
           {
            "marker": {
             "colorbar": {
              "outlinewidth": 0,
              "ticks": ""
             }
            },
            "type": "scattergeo"
           }
          ],
          "scattergl": [
           {
            "marker": {
             "colorbar": {
              "outlinewidth": 0,
              "ticks": ""
             }
            },
            "type": "scattergl"
           }
          ],
          "scattermapbox": [
           {
            "marker": {
             "colorbar": {
              "outlinewidth": 0,
              "ticks": ""
             }
            },
            "type": "scattermapbox"
           }
          ],
          "scatterpolar": [
           {
            "marker": {
             "colorbar": {
              "outlinewidth": 0,
              "ticks": ""
             }
            },
            "type": "scatterpolar"
           }
          ],
          "scatterpolargl": [
           {
            "marker": {
             "colorbar": {
              "outlinewidth": 0,
              "ticks": ""
             }
            },
            "type": "scatterpolargl"
           }
          ],
          "scatterternary": [
           {
            "marker": {
             "colorbar": {
              "outlinewidth": 0,
              "ticks": ""
             }
            },
            "type": "scatterternary"
           }
          ],
          "surface": [
           {
            "colorbar": {
             "outlinewidth": 0,
             "ticks": ""
            },
            "colorscale": [
             [
              0,
              "#0d0887"
             ],
             [
              0.1111111111111111,
              "#46039f"
             ],
             [
              0.2222222222222222,
              "#7201a8"
             ],
             [
              0.3333333333333333,
              "#9c179e"
             ],
             [
              0.4444444444444444,
              "#bd3786"
             ],
             [
              0.5555555555555556,
              "#d8576b"
             ],
             [
              0.6666666666666666,
              "#ed7953"
             ],
             [
              0.7777777777777778,
              "#fb9f3a"
             ],
             [
              0.8888888888888888,
              "#fdca26"
             ],
             [
              1,
              "#f0f921"
             ]
            ],
            "type": "surface"
           }
          ],
          "table": [
           {
            "cells": {
             "fill": {
              "color": "#EBF0F8"
             },
             "line": {
              "color": "white"
             }
            },
            "header": {
             "fill": {
              "color": "#C8D4E3"
             },
             "line": {
              "color": "white"
             }
            },
            "type": "table"
           }
          ]
         },
         "layout": {
          "annotationdefaults": {
           "arrowcolor": "#2a3f5f",
           "arrowhead": 0,
           "arrowwidth": 1
          },
          "autotypenumbers": "strict",
          "coloraxis": {
           "colorbar": {
            "outlinewidth": 0,
            "ticks": ""
           }
          },
          "colorscale": {
           "diverging": [
            [
             0,
             "#8e0152"
            ],
            [
             0.1,
             "#c51b7d"
            ],
            [
             0.2,
             "#de77ae"
            ],
            [
             0.3,
             "#f1b6da"
            ],
            [
             0.4,
             "#fde0ef"
            ],
            [
             0.5,
             "#f7f7f7"
            ],
            [
             0.6,
             "#e6f5d0"
            ],
            [
             0.7,
             "#b8e186"
            ],
            [
             0.8,
             "#7fbc41"
            ],
            [
             0.9,
             "#4d9221"
            ],
            [
             1,
             "#276419"
            ]
           ],
           "sequential": [
            [
             0,
             "#0d0887"
            ],
            [
             0.1111111111111111,
             "#46039f"
            ],
            [
             0.2222222222222222,
             "#7201a8"
            ],
            [
             0.3333333333333333,
             "#9c179e"
            ],
            [
             0.4444444444444444,
             "#bd3786"
            ],
            [
             0.5555555555555556,
             "#d8576b"
            ],
            [
             0.6666666666666666,
             "#ed7953"
            ],
            [
             0.7777777777777778,
             "#fb9f3a"
            ],
            [
             0.8888888888888888,
             "#fdca26"
            ],
            [
             1,
             "#f0f921"
            ]
           ],
           "sequentialminus": [
            [
             0,
             "#0d0887"
            ],
            [
             0.1111111111111111,
             "#46039f"
            ],
            [
             0.2222222222222222,
             "#7201a8"
            ],
            [
             0.3333333333333333,
             "#9c179e"
            ],
            [
             0.4444444444444444,
             "#bd3786"
            ],
            [
             0.5555555555555556,
             "#d8576b"
            ],
            [
             0.6666666666666666,
             "#ed7953"
            ],
            [
             0.7777777777777778,
             "#fb9f3a"
            ],
            [
             0.8888888888888888,
             "#fdca26"
            ],
            [
             1,
             "#f0f921"
            ]
           ]
          },
          "colorway": [
           "#636efa",
           "#EF553B",
           "#00cc96",
           "#ab63fa",
           "#FFA15A",
           "#19d3f3",
           "#FF6692",
           "#B6E880",
           "#FF97FF",
           "#FECB52"
          ],
          "font": {
           "color": "#2a3f5f"
          },
          "geo": {
           "bgcolor": "white",
           "lakecolor": "white",
           "landcolor": "#E5ECF6",
           "showlakes": true,
           "showland": true,
           "subunitcolor": "white"
          },
          "hoverlabel": {
           "align": "left"
          },
          "hovermode": "closest",
          "mapbox": {
           "style": "light"
          },
          "paper_bgcolor": "white",
          "plot_bgcolor": "#E5ECF6",
          "polar": {
           "angularaxis": {
            "gridcolor": "white",
            "linecolor": "white",
            "ticks": ""
           },
           "bgcolor": "#E5ECF6",
           "radialaxis": {
            "gridcolor": "white",
            "linecolor": "white",
            "ticks": ""
           }
          },
          "scene": {
           "xaxis": {
            "backgroundcolor": "#E5ECF6",
            "gridcolor": "white",
            "gridwidth": 2,
            "linecolor": "white",
            "showbackground": true,
            "ticks": "",
            "zerolinecolor": "white"
           },
           "yaxis": {
            "backgroundcolor": "#E5ECF6",
            "gridcolor": "white",
            "gridwidth": 2,
            "linecolor": "white",
            "showbackground": true,
            "ticks": "",
            "zerolinecolor": "white"
           },
           "zaxis": {
            "backgroundcolor": "#E5ECF6",
            "gridcolor": "white",
            "gridwidth": 2,
            "linecolor": "white",
            "showbackground": true,
            "ticks": "",
            "zerolinecolor": "white"
           }
          },
          "shapedefaults": {
           "line": {
            "color": "#2a3f5f"
           }
          },
          "ternary": {
           "aaxis": {
            "gridcolor": "white",
            "linecolor": "white",
            "ticks": ""
           },
           "baxis": {
            "gridcolor": "white",
            "linecolor": "white",
            "ticks": ""
           },
           "bgcolor": "#E5ECF6",
           "caxis": {
            "gridcolor": "white",
            "linecolor": "white",
            "ticks": ""
           }
          },
          "title": {
           "x": 0.05
          },
          "xaxis": {
           "automargin": true,
           "gridcolor": "white",
           "linecolor": "white",
           "ticks": "",
           "title": {
            "standoff": 15
           },
           "zerolinecolor": "white",
           "zerolinewidth": 2
          },
          "yaxis": {
           "automargin": true,
           "gridcolor": "white",
           "linecolor": "white",
           "ticks": "",
           "title": {
            "standoff": 15
           },
           "zerolinecolor": "white",
           "zerolinewidth": 2
          }
         }
        },
        "title": {
         "text": "Type of Incident vs Number of Occurrences"
        },
        "width": 1000,
        "xaxis": {
         "anchor": "y",
         "domain": [
          0,
          1
         ],
         "title": {
          "text": "Type of Incident"
         }
        },
        "yaxis": {
         "anchor": "x",
         "domain": [
          0,
          1
         ],
         "title": {
          "text": "value"
         }
        }
       }
      }
     },
     "metadata": {},
     "output_type": "display_data"
    }
   ],
   "source": [
    "df_sum_nw_incidents_bar = generate_sum_incident_bar(get_incidents_for_region(df_incidents, region=\"North West\"))\n",
    "df_sum_nw_incidents_bar"
   ]
  },
  {
   "cell_type": "code",
   "execution_count": null,
   "metadata": {},
   "outputs": [],
   "source": []
  }
 ],
 "metadata": {
  "kernelspec": {
   "display_name": "Python 3",
   "language": "python",
   "name": "python3"
  },
  "language_info": {
   "codemirror_mode": {
    "name": "ipython",
    "version": 3
   },
   "file_extension": ".py",
   "mimetype": "text/x-python",
   "name": "python",
   "nbconvert_exporter": "python",
   "pygments_lexer": "ipython3",
   "version": "3.9.13"
  },
  "orig_nbformat": 4,
  "vscode": {
   "interpreter": {
    "hash": "b0fa6594d8f4cbf19f97940f81e996739fb7646882a419484c72d19e05852a7e"
   }
  }
 },
 "nbformat": 4,
 "nbformat_minor": 2
}
