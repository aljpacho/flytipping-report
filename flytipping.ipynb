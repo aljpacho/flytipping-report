{
 "cells": [
  {
   "attachments": {},
   "cell_type": "markdown",
   "metadata": {},
   "source": [
    "# Fly-tipping Report\n",
    "\n",
    "This task requires using the UK government's [fly-tipping dataset](https://www.data.gov.uk/dataset/1388104c-3599-4cd2-abb5-ca8ddeeb4c9c/fly-tipping-in-england) to investigate the following questions:\n",
    "\n",
    "- Which kind of incidents happen most in your region?\n",
    "- How many people have been sent to prison in your region?\n",
    "- In which region is flytipping growing the fastest?\n",
    "- Which region has the biggest fluctuations in clean costs?\n",
    "- Which region is losing the most money from flytipping?"
   ]
  },
  {
   "cell_type": "code",
   "execution_count": null,
   "metadata": {},
   "outputs": [],
   "source": []
  }
 ],
 "metadata": {
  "language_info": {
   "name": "python"
  },
  "orig_nbformat": 4
 },
 "nbformat": 4,
 "nbformat_minor": 2
}
